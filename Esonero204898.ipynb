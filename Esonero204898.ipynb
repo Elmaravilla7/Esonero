{
 "cells": [
  {
   "cell_type": "markdown",
   "metadata": {},
   "source": [
    "# Esonero 1\n",
    "L'obiettivo di questo notebook è:\n",
    "\n",
    "1.Implementare un algoritmo che genera istogrammi basato sui feature descriptors,utilizzando l'algoritmo SURF;\n",
    "\n",
    "2.Dare in input il set di immagini MNIST all'algoritmo al passo 1. e applicare la regressione logistica (da scikit-learn) ;\n",
    "\n",
    "3.Applicare la regressione logistica (da scikit-learn) sul set di immagini MNIST;\n",
    "\n",
    "4.Confrontare i due approcci e trarre delle conclusioni.\n"
   ]
  },
  {
   "cell_type": "markdown",
   "metadata": {},
   "source": [
    "# Premessa\n",
    "\n",
    "Le immagini utilizzate sono state generate tramite il metodo fetch_openml('mnist_784') e salvate in una cartella rinominata dataset, mantendendo la divisione originale.\n"
   ]
  },
  {
   "cell_type": "code",
   "execution_count": 1,
   "metadata": {},
   "outputs": [],
   "source": [
    "def createData(x,y):\n",
    "    for i in range(0,len(x)):\n",
    "        img=x[i].reshape(28,28)\n",
    "        cv2.imwrite('./dataset'+'/'+ str(y[i])+'/'+str(i)+'.png',img)\n",
    "\n",
    "def loadData(x,y):\n",
    "    load = []\n",
    "    for i in range(0, len(x)):\n",
    "        load.append('./dataset' + '/' + str(y[i]) + '/' + str(i) + '.png')\n",
    "    return load\n",
    "\n",
    "def preP(train):\n",
    "    dim = (100, 100)\n",
    "    esamina=[]\n",
    "    for img in train:\n",
    "        img = cv2.imread(img)\n",
    "        res = cv2.resize(img, dim, interpolation=cv2.INTER_LINEAR)\n",
    "        gray = cv2.cvtColor(res, cv2.COLOR_RGB2GRAY)\n",
    "        esamina.append(gray)\n",
    "    return esamina"
   ]
  },
  {
   "cell_type": "code",
   "execution_count": 2,
   "metadata": {},
   "outputs": [
    {
     "name": "stdout",
     "output_type": "stream",
     "text": [
      "ok data!\n"
     ]
    }
   ],
   "source": [
    "from sklearn.datasets import fetch_openml\n",
    "import cv2\n",
    "import numpy as np\n",
    "import matplotlib.pyplot as plt\n",
    "\n",
    "%matplotlib inline\n",
    "\n",
    "mnist_data = fetch_openml('mnist_784')\n",
    "x, y = mnist_data['data'][:21000], mnist_data['target'][:21000]\n",
    "y = y.astype(np.uint8)#converto y \n",
    "train=loadData(x,y)\n",
    "train=preP(train)\n",
    "print(\"ok data!\")"
   ]
  },
  {
   "cell_type": "markdown",
   "metadata": {},
   "source": [
    "Si utilizza una parte del dataset,composta da 21000 immagini;già preprocessate.\n",
    "Tuttavia, al fine di ottenere buone features,bisogna assicurare che le immagini siano correttamente lette in scala di grigio e ridimensionate; come accade nella funzione preP()."
   ]
  },
  {
   "cell_type": "markdown",
   "metadata": {},
   "source": [
    "# Passo 1\n",
    "\n",
    "Creazione dell'algoritmo:\n",
    "\n",
    "a)Si estrae un insieme di features da ogni immagine del training set (rappresentazione multidimensionale).\n",
    "\n",
    "Si utilizza l'algoritmo SURF,con un hessianThreshold=300, o meglio solo le funzioni la cui hessiana è più grande della soglia, sono considerate dal detector;pertanto maggiore è il valore, minori saranno i punti ottenuti. \n",
    "E' bene settare l'attributo tra 300 e 500, a seconda del contrasto dell'immagine.\n",
    "I restanti attributi, rappresentano il nOctaves=24(numero di ottave di una piramide gaussiana utilizzate dal detector;maggiore è il valore maggiori saranno le features) e nOctaveLayers=18(numero di immagini all'interno di ciascuna ottava di una piramide gaussiana).\n"
   ]
  },
  {
   "cell_type": "code",
   "execution_count": 3,
   "metadata": {},
   "outputs": [],
   "source": [
    "def vectors(train):\n",
    "    descriptors = []\n",
    "    keypoints= []\n",
    "    conta=0\n",
    "    for i in range(0,len(train)):\n",
    "        surf = cv2.xfeatures2d.SURF_create(300,nOctaves=24,nOctaveLayers=18)\n",
    "        kp, des = surf.detectAndCompute(train[i],None)\n",
    "        if (str(des) == 'None'):\n",
    "            descriptors.append(np.zeros(64))\n",
    "        else:\n",
    "            descriptors.append(des)\n",
    "            conta=conta+1\n",
    "        keypoints.append(kp)\n",
    "    return descriptors,keypoints,conta"
   ]
  },
  {
   "cell_type": "code",
   "execution_count": 4,
   "metadata": {},
   "outputs": [
    {
     "name": "stdout",
     "output_type": "stream",
     "text": [
      "ok descriptors!\n",
      "Ho trovato keypoints per 21000 immagini\n"
     ]
    }
   ],
   "source": [
    "descriptors,keypoints,conta=vectors(train)\n",
    "print(\"ok descriptors!\")\n",
    "print(\"Ho trovato keypoints per \"+ str(conta) +\" immagini\")"
   ]
  },
  {
   "cell_type": "markdown",
   "metadata": {},
   "source": [
    "L'algoritmo SURF, in questa circostanza, riesce ad identificare dei keypoints e calcolare i relativi descriptors per ogni immagine in esame.Tuttavia, se ciò non fosse possibile, verrà inserita nella lista descriptors un vettore contente ogni valore a 0."
   ]
  },
  {
   "cell_type": "markdown",
   "metadata": {},
   "source": [
    "Si mostrano, a titolo di esempio, i keypoints rilevati ad una immagine del dataset."
   ]
  },
  {
   "cell_type": "code",
   "execution_count": 5,
   "metadata": {},
   "outputs": [
    {
     "name": "stdout",
     "output_type": "stream",
     "text": [
      "Ho trovato 31 keypoints per l'immagine selezionata\n"
     ]
    },
    {
     "data": {
      "image/png": "[encoded data removed]",
      "text/plain": [
       "<Figure size 432x288 with 1 Axes>"
      ]
     },
     "metadata": {
      "needs_background": "light"
     },
     "output_type": "display_data"
    }
   ],
   "source": [
    "des,kp=descriptors[0],keypoints[0]\n",
    "img=cv2.drawKeypoints(train[0],kp,None,(255,0,0),4)\n",
    "plt.imshow(img)\n",
    "print(\"Ho trovato \"+ str(len(kp))+ \" keypoints per l'immagine selezionata\")"
   ]
  },
  {
   "cell_type": "markdown",
   "metadata": {},
   "source": [
    "b)Si trovano i K raggruppamenti di tutte le features utilizzando K-Means, associando ogni feautures al cluster\n",
    "appropriato."
   ]
  },
  {
   "cell_type": "markdown",
   "metadata": {},
   "source": [
    "Prima di applicare il clustering, è necessario modificare la lista dei descriptors, trasformando\n",
    "l'elenco in un unico blocco da analizzare."
   ]
  },
  {
   "cell_type": "code",
   "execution_count": 6,
   "metadata": {},
   "outputs": [],
   "source": [
    "def cleanV(descriptors):\n",
    "    modificata = np.zeros(64)\n",
    "    for des in descriptors:\n",
    "        modificata = np.vstack((modificata, des))\n",
    "    return modificata[1:]"
   ]
  },
  {
   "cell_type": "code",
   "execution_count": 7,
   "metadata": {},
   "outputs": [],
   "source": [
    "modificata = cleanV(descriptors)"
   ]
  },
  {
   "cell_type": "markdown",
   "metadata": {},
   "source": [
    "Si applica ora il l'algoritmo KMeans utilizzando la versione MiniBatch,contenuta nel modulo sklearn, \n",
    "opportunamente settata.\n",
    "Questo approccio genera una soluzione in maniera più rapida e meno costosa, in termini computazionali, rispetto a quello classico; a discapito,però, di un'accuratezza leggermente minore dell'algoritmo.\n"
   ]
  },
  {
   "cell_type": "code",
   "execution_count": 8,
   "metadata": {},
   "outputs": [
    {
     "name": "stdout",
     "output_type": "stream",
     "text": [
      "ok KMeans!\n"
     ]
    }
   ],
   "source": [
    "from sklearn.cluster import MiniBatchKMeans\n",
    "k=700#numero di cluster(gruppi)\n",
    "kmeans=MiniBatchKMeans(init='k-means++',init_size=3*k,n_clusters=k,batch_size=k)\n",
    "pred=kmeans.fit_predict(modificata)\n",
    "centroids=kmeans.cluster_centers_\n",
    "print(\"ok KMeans!\")\n",
    "\n"
   ]
  },
  {
   "cell_type": "markdown",
   "metadata": {},
   "source": [
    "c)Per ogni immagine, si calcola l’istogramma delle features sui K gruppi e ogni feature contribuisce al cluster a cui è associata.\n"
   ]
  },
  {
   "cell_type": "markdown",
   "metadata": {},
   "source": [
    "Viene applicato il metodo di scipy cluster.vq.vq(vector quantization)che, ricevendo in ingresso i centroidi calcolati da KMeans,restituisce una rappresentazione delle features in base al centroide più vicino.\n",
    "\n",
    "Il seguente approccio è una alternativa valida a  quello classico,presentato durante il corso e che calcola la distanza descriptors-centroids, con poco costo computazionale e con una minima implementazione a livello di codice.\n",
    "\n",
    "Verrà restituito, per ogni immagine, un vettore di lunghezza n pari al numero di descriptors che la compongono;\n",
    "dove ogni descriptor è codificato con l'indice del centroide che più gli si \"avvicina\"(centroide con distanza minore dal descriptor in esame)."
   ]
  },
  {
   "cell_type": "code",
   "execution_count": 9,
   "metadata": {},
   "outputs": [],
   "source": [
    "from scipy.cluster.vq import *\n",
    "def distanza(descriptors,centroids):\n",
    "    rap=[]\n",
    "    for i in range(0, len(descriptors)):\n",
    "        rappresentazione= vq(descriptors[i], centroids)\n",
    "        rap.append(rappresentazione[0])\n",
    "    return rap"
   ]
  },
  {
   "cell_type": "code",
   "execution_count": 10,
   "metadata": {},
   "outputs": [],
   "source": [
    "rappresentazione=distanza(descriptors,centroids)"
   ]
  },
  {
   "cell_type": "markdown",
   "metadata": {},
   "source": [
    "Si calcolano ora gli istogrammi che, in virtù delle proprietà elencate al passo precedente, non necessitano di essere normalizzati:"
   ]
  },
  {
   "cell_type": "code",
   "execution_count": 11,
   "metadata": {},
   "outputs": [],
   "source": [
    "def hist(rappresentazione,k):\n",
    "    istogrammi = []\n",
    "    classi = np.arange(k)\n",
    "    for i in rappresentazione:\n",
    "        hist, classi = np.histogram(i, bins=classi)#istogramma\n",
    "        istogrammi.append(np.asarray(hist))\n",
    "    return istogrammi\n"
   ]
  },
  {
   "cell_type": "code",
   "execution_count": 12,
   "metadata": {},
   "outputs": [],
   "source": [
    "istogrammi=hist(rappresentazione,k)\n"
   ]
  },
  {
   "cell_type": "markdown",
   "metadata": {},
   "source": [
    "Ecco come appare un istogramma:"
   ]
  },
  {
   "cell_type": "code",
   "execution_count": 13,
   "metadata": {},
   "outputs": [
    {
     "data": {
      "text/plain": [
       "[<matplotlib.lines.Line2D at 0x7f1398054650>]"
      ]
     },
     "execution_count": 13,
     "metadata": {},
     "output_type": "execute_result"
    },
    {
     "data": {
      "image/png": "[encoded data removed]",
      "text/plain": [
       "<Figure size 432x288 with 1 Axes>"
      ]
     },
     "metadata": {
      "needs_background": "light"
     },
     "output_type": "display_data"
    }
   ],
   "source": [
    "import matplotlib.pyplot as plt\n",
    "\n",
    "%matplotlib inline\n",
    "plt.plot(istogrammi[0])\n"
   ]
  },
  {
   "cell_type": "markdown",
   "metadata": {},
   "source": [
    "# Passo 2 "
   ]
  },
  {
   "cell_type": "markdown",
   "metadata": {},
   "source": [
    "Si applica la regressione logistica dando in input gli istogrammi creati."
   ]
  },
  {
   "cell_type": "code",
   "execution_count": 14,
   "metadata": {},
   "outputs": [
    {
     "name": "stdout",
     "output_type": "stream",
     "text": [
      "Train hist = 17000 and y = 17000\n",
      "Test  hist = 4000 and y = 4000\n"
     ]
    }
   ],
   "source": [
    "from sklearn.model_selection import train_test_split\n",
    "hist_train, hist_test, y_train, y_test = train_test_split(istogrammi, y,\n",
    "                                                        test_size=4000,\n",
    "                                                        shuffle=True,\n",
    "                                                        random_state=8735,\n",
    "                                                        stratify=y)\n",
    "\n",
    "print(f'Train hist = {len(hist_train)} and y = {len(y_train)}')\n",
    "print(f'Test  hist = {len(hist_test)} and y = {len(y_test)}')"
   ]
  },
  {
   "cell_type": "markdown",
   "metadata": {},
   "source": [
    "Si utilizzano 17000 istogrammi per il train set e 4000 per il test set."
   ]
  },
  {
   "cell_type": "markdown",
   "metadata": {},
   "source": [
    "Per l'addestramento del modello è stato scelto l'algoritmo di discesa del gradiente impostando una perdita logaritmica."
   ]
  },
  {
   "cell_type": "code",
   "execution_count": 15,
   "metadata": {},
   "outputs": [
    {
     "name": "stdout",
     "output_type": "stream",
     "text": [
      "DONE\n"
     ]
    }
   ],
   "source": [
    "from sklearn.linear_model import SGDClassifier\n",
    "\n",
    "model = SGDClassifier(loss='log', random_state=2936)\n",
    "model.fit(hist_train, y_train)\n",
    "\n",
    "print('DONE')"
   ]
  },
  {
   "cell_type": "markdown",
   "metadata": {},
   "source": [
    "Si valuta l'accuratezza sul train set e su test set:"
   ]
  },
  {
   "cell_type": "code",
   "execution_count": 16,
   "metadata": {},
   "outputs": [
    {
     "name": "stdout",
     "output_type": "stream",
     "text": [
      "Training Accuracy:  0.9414\n",
      "Test Accuracy:      0.8782\n"
     ]
    }
   ],
   "source": [
    "scoreTraining = model.score(hist_train, y_train)\n",
    "scoreTest = model.score(hist_test, y_test)\n",
    "\n",
    "print(f'Training Accuracy:  {scoreTraining:.4f}')\n",
    "print(f'Test Accuracy:      {scoreTest:.4f}')"
   ]
  },
  {
   "cell_type": "markdown",
   "metadata": {},
   "source": [
    "Gli score ottenuti indicano una correttezza sul train test di circa il 94% e sul test set di circa l'88%,un ottimo risultato.\n",
    "Si crea ora la matrice di confusione per capire meglio come opera il modello e valutare la coerenza degli score precedenti."
   ]
  },
  {
   "cell_type": "code",
   "execution_count": 17,
   "metadata": {},
   "outputs": [
    {
     "data": {
      "text/html": [
       "<div>\n",
       "<style scoped>\n",
       "    .dataframe tbody tr th:only-of-type {\n",
       "        vertical-align: middle;\n",
       "    }\n",
       "\n",
       "    .dataframe tbody tr th {\n",
       "        vertical-align: top;\n",
       "    }\n",
       "\n",
       "    .dataframe thead th {\n",
       "        text-align: right;\n",
       "    }\n",
       "</style>\n",
       "<table border=\"1\" class=\"dataframe\">\n",
       "  <thead>\n",
       "    <tr style=\"text-align: right;\">\n",
       "      <th></th>\n",
       "      <th>0</th>\n",
       "      <th>1</th>\n",
       "      <th>2</th>\n",
       "      <th>3</th>\n",
       "      <th>4</th>\n",
       "      <th>5</th>\n",
       "      <th>6</th>\n",
       "      <th>7</th>\n",
       "      <th>8</th>\n",
       "      <th>9</th>\n",
       "    </tr>\n",
       "  </thead>\n",
       "  <tbody>\n",
       "    <tr>\n",
       "      <td>0</td>\n",
       "      <td>370</td>\n",
       "      <td>0</td>\n",
       "      <td>0</td>\n",
       "      <td>0</td>\n",
       "      <td>0</td>\n",
       "      <td>2</td>\n",
       "      <td>16</td>\n",
       "      <td>1</td>\n",
       "      <td>2</td>\n",
       "      <td>7</td>\n",
       "    </tr>\n",
       "    <tr>\n",
       "      <td>1</td>\n",
       "      <td>0</td>\n",
       "      <td>443</td>\n",
       "      <td>1</td>\n",
       "      <td>0</td>\n",
       "      <td>6</td>\n",
       "      <td>0</td>\n",
       "      <td>3</td>\n",
       "      <td>3</td>\n",
       "      <td>0</td>\n",
       "      <td>0</td>\n",
       "    </tr>\n",
       "    <tr>\n",
       "      <td>2</td>\n",
       "      <td>2</td>\n",
       "      <td>5</td>\n",
       "      <td>317</td>\n",
       "      <td>4</td>\n",
       "      <td>6</td>\n",
       "      <td>7</td>\n",
       "      <td>3</td>\n",
       "      <td>29</td>\n",
       "      <td>11</td>\n",
       "      <td>2</td>\n",
       "    </tr>\n",
       "    <tr>\n",
       "      <td>3</td>\n",
       "      <td>0</td>\n",
       "      <td>1</td>\n",
       "      <td>7</td>\n",
       "      <td>370</td>\n",
       "      <td>2</td>\n",
       "      <td>21</td>\n",
       "      <td>2</td>\n",
       "      <td>5</td>\n",
       "      <td>5</td>\n",
       "      <td>2</td>\n",
       "    </tr>\n",
       "    <tr>\n",
       "      <td>4</td>\n",
       "      <td>0</td>\n",
       "      <td>0</td>\n",
       "      <td>3</td>\n",
       "      <td>6</td>\n",
       "      <td>363</td>\n",
       "      <td>6</td>\n",
       "      <td>3</td>\n",
       "      <td>7</td>\n",
       "      <td>1</td>\n",
       "      <td>1</td>\n",
       "    </tr>\n",
       "    <tr>\n",
       "      <td>5</td>\n",
       "      <td>3</td>\n",
       "      <td>0</td>\n",
       "      <td>2</td>\n",
       "      <td>8</td>\n",
       "      <td>5</td>\n",
       "      <td>316</td>\n",
       "      <td>4</td>\n",
       "      <td>3</td>\n",
       "      <td>1</td>\n",
       "      <td>11</td>\n",
       "    </tr>\n",
       "    <tr>\n",
       "      <td>6</td>\n",
       "      <td>9</td>\n",
       "      <td>1</td>\n",
       "      <td>4</td>\n",
       "      <td>2</td>\n",
       "      <td>1</td>\n",
       "      <td>11</td>\n",
       "      <td>311</td>\n",
       "      <td>9</td>\n",
       "      <td>3</td>\n",
       "      <td>42</td>\n",
       "    </tr>\n",
       "    <tr>\n",
       "      <td>7</td>\n",
       "      <td>1</td>\n",
       "      <td>7</td>\n",
       "      <td>27</td>\n",
       "      <td>5</td>\n",
       "      <td>14</td>\n",
       "      <td>7</td>\n",
       "      <td>7</td>\n",
       "      <td>345</td>\n",
       "      <td>2</td>\n",
       "      <td>3</td>\n",
       "    </tr>\n",
       "    <tr>\n",
       "      <td>8</td>\n",
       "      <td>2</td>\n",
       "      <td>1</td>\n",
       "      <td>9</td>\n",
       "      <td>5</td>\n",
       "      <td>3</td>\n",
       "      <td>3</td>\n",
       "      <td>1</td>\n",
       "      <td>2</td>\n",
       "      <td>352</td>\n",
       "      <td>7</td>\n",
       "    </tr>\n",
       "    <tr>\n",
       "      <td>9</td>\n",
       "      <td>7</td>\n",
       "      <td>5</td>\n",
       "      <td>2</td>\n",
       "      <td>2</td>\n",
       "      <td>6</td>\n",
       "      <td>13</td>\n",
       "      <td>35</td>\n",
       "      <td>2</td>\n",
       "      <td>8</td>\n",
       "      <td>326</td>\n",
       "    </tr>\n",
       "  </tbody>\n",
       "</table>\n",
       "</div>"
      ],
      "text/plain": [
       "     0    1    2    3    4    5    6    7    8    9\n",
       "0  370    0    0    0    0    2   16    1    2    7\n",
       "1    0  443    1    0    6    0    3    3    0    0\n",
       "2    2    5  317    4    6    7    3   29   11    2\n",
       "3    0    1    7  370    2   21    2    5    5    2\n",
       "4    0    0    3    6  363    6    3    7    1    1\n",
       "5    3    0    2    8    5  316    4    3    1   11\n",
       "6    9    1    4    2    1   11  311    9    3   42\n",
       "7    1    7   27    5   14    7    7  345    2    3\n",
       "8    2    1    9    5    3    3    1    2  352    7\n",
       "9    7    5    2    2    6   13   35    2    8  326"
      ]
     },
     "execution_count": 17,
     "metadata": {},
     "output_type": "execute_result"
    }
   ],
   "source": [
    "import pandas as pd\n",
    "from sklearn.metrics import confusion_matrix\n",
    "y_pred = model.predict(hist_test)\n",
    "cm = confusion_matrix(y_test, y_pred)\n",
    "pd.DataFrame(cm, columns=range(10)).head(10)"
   ]
  },
  {
   "cell_type": "markdown",
   "metadata": {},
   "source": [
    "Nella matrice le righe i rappresentano le classi reali, le colonne j le classi predette;la cella (i,j) rappresenta un'istanza della classe reale che è stata etichettata con la classe predetta.La diagonale principale contiene le etichette corrette.Si ottiene una matrice che contiene la maggior parte dei valori sulla diagonale principale,un risultato ottimo,a conferma dell'andamento degli score precedenti."
   ]
  },
  {
   "cell_type": "markdown",
   "metadata": {},
   "source": [
    "Un'informazione qualitativa sul comportamento del modello, in maniera puntuale, è ottenuta dai rate di precision e recall,tramite la metodologia one vs rest, generando una tabella per ogni classe presente.\n",
    "Gli esempi positivi saranno quelli della classe target, tutti gli altri saranno negativi."
   ]
  },
  {
   "cell_type": "code",
   "execution_count": 18,
   "metadata": {
    "scrolled": true
   },
   "outputs": [
    {
     "name": "stdout",
     "output_type": "stream",
     "text": [
      "\n",
      "\n",
      "CLASS 0\n",
      "       False  True\n",
      "False   3578    24\n",
      "True      28   370\n",
      "\n",
      "\n",
      "CLASS 1\n",
      "       False  True\n",
      "False   3524    20\n",
      "True      13   443\n",
      "\n",
      "\n",
      "CLASS 2\n",
      "       False  True\n",
      "False   3559    55\n",
      "True      69   317\n",
      "\n",
      "\n",
      "CLASS 3\n",
      "       False  True\n",
      "False   3553    32\n",
      "True      45   370\n",
      "\n",
      "\n",
      "CLASS 4\n",
      "       False  True\n",
      "False   3567    43\n",
      "True      27   363\n",
      "\n",
      "\n",
      "CLASS 5\n",
      "       False  True\n",
      "False   3577    70\n",
      "True      37   316\n",
      "\n",
      "\n",
      "CLASS 6\n",
      "       False  True\n",
      "False   3533    74\n",
      "True      82   311\n",
      "\n",
      "\n",
      "CLASS 7\n",
      "       False  True\n",
      "False   3521    61\n",
      "True      73   345\n",
      "\n",
      "\n",
      "CLASS 8\n",
      "       False  True\n",
      "False   3582    33\n",
      "True      33   352\n",
      "\n",
      "\n",
      "CLASS 9\n",
      "       False  True\n",
      "False   3519    75\n",
      "True      80   326\n"
     ]
    }
   ],
   "source": [
    "# multiclass TP and FP rate\n",
    "from sklearn.metrics import multilabel_confusion_matrix\n",
    "\n",
    "mcm = multilabel_confusion_matrix(y_test, y_pred)\n",
    "\n",
    "for idx_class in range(10):\n",
    "    confusion_matrix = mcm[idx_class, ...]\n",
    "    \n",
    "    print(f'\\n\\nCLASS {idx_class}')\n",
    "    # true label on row, prediction on column\n",
    "    print(pd.DataFrame(confusion_matrix, columns=['False', 'True'], index=['False', 'True']))"
   ]
  },
  {
   "cell_type": "markdown",
   "metadata": {},
   "source": [
    "Analizzando, ad esempio, la classe 0,si ottiene che 370 record sono stati correttamente classificati, ottendo 24 falsi positivi e 28 falsi negativi(immagini che rappresentavano il numero 0 ma che il modello ha predetto in maniera diversa).La classe che si comporta meglio è la 1 con 443 identificazioni corrette,20 falsi positivi e 13 falsi negativi;quella \"peggiore\" se così si può definire, è la numero 6."
   ]
  },
  {
   "cell_type": "markdown",
   "metadata": {},
   "source": [
    "Si analizzano ora gli score di precision,recall,f1-score(media armonica tra i due valori precedenti) ,per visualizzare ancore meglio il comportamento di ogni classe."
   ]
  },
  {
   "cell_type": "code",
   "execution_count": 19,
   "metadata": {},
   "outputs": [
    {
     "name": "stdout",
     "output_type": "stream",
     "text": [
      "              precision    recall  f1-score   support\n",
      "\n",
      "           0       0.94      0.93      0.93       398\n",
      "           1       0.96      0.97      0.96       456\n",
      "           2       0.85      0.82      0.84       386\n",
      "           3       0.92      0.89      0.91       415\n",
      "           4       0.89      0.93      0.91       390\n",
      "           5       0.82      0.90      0.86       353\n",
      "           6       0.81      0.79      0.80       393\n",
      "           7       0.85      0.83      0.84       418\n",
      "           8       0.91      0.91      0.91       385\n",
      "           9       0.81      0.80      0.81       406\n",
      "\n",
      "    accuracy                           0.88      4000\n",
      "   macro avg       0.88      0.88      0.88      4000\n",
      "weighted avg       0.88      0.88      0.88      4000\n",
      "\n"
     ]
    }
   ],
   "source": [
    "from sklearn.metrics import classification_report\n",
    "\n",
    "report = classification_report(y_test, y_pred)\n",
    "print(report)"
   ]
  },
  {
   "cell_type": "markdown",
   "metadata": {},
   "source": [
    "La classe che si comporta in modo peggiore,in termini di recall, è la 6 che predice correttamente solo il 79% degli esempi con una precision del 81%, per quella classe.La migliore è la classe 1, con 97% di esempi correttamente predetti con una precision del 96%. Le altre classi, presentano valori abbastanza buoni. Si può concludere che l'accuratezza del modello è  dell'88%, un ottimo risultato!"
   ]
  },
  {
   "cell_type": "markdown",
   "metadata": {},
   "source": [
    "# Passo 3"
   ]
  },
  {
   "cell_type": "markdown",
   "metadata": {},
   "source": [
    "Si effettua ora la regressione logistica sul set di immagini, prendendone 21000,formando un train test di 17000 immagini ed un test set di 4000."
   ]
  },
  {
   "cell_type": "code",
   "execution_count": 20,
   "metadata": {},
   "outputs": [
    {
     "name": "stdout",
     "output_type": "stream",
     "text": [
      "Train x = (17000, 784) and y = (17000,)\n",
      "Test  x = (4000, 784) and y = (4000,)\n"
     ]
    }
   ],
   "source": [
    "from sklearn.model_selection import train_test_split\n",
    "x_train, x_test, y_train, y_test = train_test_split(x, y,\n",
    "                                                   test_size=4000,\n",
    "                                                   shuffle=True,\n",
    "                                                   random_state=8735,\n",
    "                                                   stratify=y)\n",
    "\n",
    "print(f'Train x = {x_train.shape} and y = {y_train.shape}')\n",
    "print(f'Test  x = {x_test.shape} and y = {y_test.shape}')"
   ]
  },
  {
   "cell_type": "code",
   "execution_count": 21,
   "metadata": {},
   "outputs": [
    {
     "name": "stdout",
     "output_type": "stream",
     "text": [
      "DONE\n"
     ]
    }
   ],
   "source": [
    "# Train the model\n",
    "from sklearn.linear_model import SGDClassifier\n",
    "\n",
    "model = SGDClassifier(loss='log', random_state=2936)\n",
    "model.fit(x_train, y_train)\n",
    "\n",
    "print('DONE')"
   ]
  },
  {
   "cell_type": "code",
   "execution_count": 22,
   "metadata": {},
   "outputs": [
    {
     "name": "stdout",
     "output_type": "stream",
     "text": [
      "Training Accuracy:  0.8937\n",
      "Test Accuracy:      0.8558\n"
     ]
    }
   ],
   "source": [
    "# evaluate training performance as global accuracy\n",
    "\n",
    "scoreTraining = model.score(x_train, y_train)\n",
    "scoreTest = model.score(x_test, y_test)\n",
    "\n",
    "print(f'Training Accuracy:  {scoreTraining:.4f}')\n",
    "print(f'Test Accuracy:      {scoreTest:.4f}')\n"
   ]
  },
  {
   "cell_type": "markdown",
   "metadata": {},
   "source": [
    "Il modello sembra ottimo,tuttavia con score inferiori rispetto a quello precedente.Si procede con un'analisi più dettagliata:"
   ]
  },
  {
   "cell_type": "code",
   "execution_count": 23,
   "metadata": {},
   "outputs": [
    {
     "data": {
      "text/html": [
       "<div>\n",
       "<style scoped>\n",
       "    .dataframe tbody tr th:only-of-type {\n",
       "        vertical-align: middle;\n",
       "    }\n",
       "\n",
       "    .dataframe tbody tr th {\n",
       "        vertical-align: top;\n",
       "    }\n",
       "\n",
       "    .dataframe thead th {\n",
       "        text-align: right;\n",
       "    }\n",
       "</style>\n",
       "<table border=\"1\" class=\"dataframe\">\n",
       "  <thead>\n",
       "    <tr style=\"text-align: right;\">\n",
       "      <th></th>\n",
       "      <th>0</th>\n",
       "      <th>1</th>\n",
       "      <th>2</th>\n",
       "      <th>3</th>\n",
       "      <th>4</th>\n",
       "      <th>5</th>\n",
       "      <th>6</th>\n",
       "      <th>7</th>\n",
       "      <th>8</th>\n",
       "      <th>9</th>\n",
       "    </tr>\n",
       "  </thead>\n",
       "  <tbody>\n",
       "    <tr>\n",
       "      <td>0</td>\n",
       "      <td>372</td>\n",
       "      <td>0</td>\n",
       "      <td>1</td>\n",
       "      <td>1</td>\n",
       "      <td>0</td>\n",
       "      <td>11</td>\n",
       "      <td>1</td>\n",
       "      <td>2</td>\n",
       "      <td>8</td>\n",
       "      <td>2</td>\n",
       "    </tr>\n",
       "    <tr>\n",
       "      <td>1</td>\n",
       "      <td>0</td>\n",
       "      <td>431</td>\n",
       "      <td>3</td>\n",
       "      <td>2</td>\n",
       "      <td>1</td>\n",
       "      <td>8</td>\n",
       "      <td>0</td>\n",
       "      <td>2</td>\n",
       "      <td>7</td>\n",
       "      <td>2</td>\n",
       "    </tr>\n",
       "    <tr>\n",
       "      <td>2</td>\n",
       "      <td>2</td>\n",
       "      <td>5</td>\n",
       "      <td>328</td>\n",
       "      <td>7</td>\n",
       "      <td>5</td>\n",
       "      <td>20</td>\n",
       "      <td>6</td>\n",
       "      <td>3</td>\n",
       "      <td>10</td>\n",
       "      <td>0</td>\n",
       "    </tr>\n",
       "    <tr>\n",
       "      <td>3</td>\n",
       "      <td>0</td>\n",
       "      <td>3</td>\n",
       "      <td>12</td>\n",
       "      <td>333</td>\n",
       "      <td>2</td>\n",
       "      <td>44</td>\n",
       "      <td>0</td>\n",
       "      <td>9</td>\n",
       "      <td>3</td>\n",
       "      <td>9</td>\n",
       "    </tr>\n",
       "    <tr>\n",
       "      <td>4</td>\n",
       "      <td>0</td>\n",
       "      <td>2</td>\n",
       "      <td>4</td>\n",
       "      <td>0</td>\n",
       "      <td>335</td>\n",
       "      <td>9</td>\n",
       "      <td>7</td>\n",
       "      <td>1</td>\n",
       "      <td>4</td>\n",
       "      <td>28</td>\n",
       "    </tr>\n",
       "    <tr>\n",
       "      <td>5</td>\n",
       "      <td>1</td>\n",
       "      <td>0</td>\n",
       "      <td>4</td>\n",
       "      <td>6</td>\n",
       "      <td>2</td>\n",
       "      <td>326</td>\n",
       "      <td>0</td>\n",
       "      <td>2</td>\n",
       "      <td>4</td>\n",
       "      <td>8</td>\n",
       "    </tr>\n",
       "    <tr>\n",
       "      <td>6</td>\n",
       "      <td>5</td>\n",
       "      <td>1</td>\n",
       "      <td>8</td>\n",
       "      <td>0</td>\n",
       "      <td>3</td>\n",
       "      <td>38</td>\n",
       "      <td>333</td>\n",
       "      <td>0</td>\n",
       "      <td>4</td>\n",
       "      <td>1</td>\n",
       "    </tr>\n",
       "    <tr>\n",
       "      <td>7</td>\n",
       "      <td>1</td>\n",
       "      <td>2</td>\n",
       "      <td>3</td>\n",
       "      <td>1</td>\n",
       "      <td>3</td>\n",
       "      <td>2</td>\n",
       "      <td>0</td>\n",
       "      <td>385</td>\n",
       "      <td>3</td>\n",
       "      <td>18</td>\n",
       "    </tr>\n",
       "    <tr>\n",
       "      <td>8</td>\n",
       "      <td>3</td>\n",
       "      <td>9</td>\n",
       "      <td>5</td>\n",
       "      <td>11</td>\n",
       "      <td>7</td>\n",
       "      <td>118</td>\n",
       "      <td>3</td>\n",
       "      <td>0</td>\n",
       "      <td>217</td>\n",
       "      <td>12</td>\n",
       "    </tr>\n",
       "    <tr>\n",
       "      <td>9</td>\n",
       "      <td>3</td>\n",
       "      <td>5</td>\n",
       "      <td>1</td>\n",
       "      <td>3</td>\n",
       "      <td>6</td>\n",
       "      <td>16</td>\n",
       "      <td>1</td>\n",
       "      <td>8</td>\n",
       "      <td>0</td>\n",
       "      <td>363</td>\n",
       "    </tr>\n",
       "  </tbody>\n",
       "</table>\n",
       "</div>"
      ],
      "text/plain": [
       "     0    1    2    3    4    5    6    7    8    9\n",
       "0  372    0    1    1    0   11    1    2    8    2\n",
       "1    0  431    3    2    1    8    0    2    7    2\n",
       "2    2    5  328    7    5   20    6    3   10    0\n",
       "3    0    3   12  333    2   44    0    9    3    9\n",
       "4    0    2    4    0  335    9    7    1    4   28\n",
       "5    1    0    4    6    2  326    0    2    4    8\n",
       "6    5    1    8    0    3   38  333    0    4    1\n",
       "7    1    2    3    1    3    2    0  385    3   18\n",
       "8    3    9    5   11    7  118    3    0  217   12\n",
       "9    3    5    1    3    6   16    1    8    0  363"
      ]
     },
     "execution_count": 23,
     "metadata": {},
     "output_type": "execute_result"
    }
   ],
   "source": [
    "import pandas as pd\n",
    "from sklearn.metrics import confusion_matrix\n",
    "y_pred = model.predict(x_test)\n",
    "cm = confusion_matrix(y_test, y_pred)\n",
    "pd.DataFrame(cm, columns=range(10)).head(10)"
   ]
  },
  {
   "cell_type": "markdown",
   "metadata": {},
   "source": [
    "La matrice di confusione presenta la maggior parte dei valori sulla diagonale principale ma si evince che il modello ha difficoltà con l'identificazione della classe 5.Analizzando più nel dettaglio:"
   ]
  },
  {
   "cell_type": "code",
   "execution_count": 24,
   "metadata": {},
   "outputs": [
    {
     "name": "stdout",
     "output_type": "stream",
     "text": [
      "\n",
      "\n",
      "CLASS 0\n",
      "       False  True\n",
      "False   3587    15\n",
      "True      26   372\n",
      "\n",
      "\n",
      "CLASS 1\n",
      "       False  True\n",
      "False   3517    27\n",
      "True      25   431\n",
      "\n",
      "\n",
      "CLASS 2\n",
      "       False  True\n",
      "False   3573    41\n",
      "True      58   328\n",
      "\n",
      "\n",
      "CLASS 3\n",
      "       False  True\n",
      "False   3554    31\n",
      "True      82   333\n",
      "\n",
      "\n",
      "CLASS 4\n",
      "       False  True\n",
      "False   3581    29\n",
      "True      55   335\n",
      "\n",
      "\n",
      "CLASS 5\n",
      "       False  True\n",
      "False   3381   266\n",
      "True      27   326\n",
      "\n",
      "\n",
      "CLASS 6\n",
      "       False  True\n",
      "False   3589    18\n",
      "True      60   333\n",
      "\n",
      "\n",
      "CLASS 7\n",
      "       False  True\n",
      "False   3555    27\n",
      "True      33   385\n",
      "\n",
      "\n",
      "CLASS 8\n",
      "       False  True\n",
      "False   3572    43\n",
      "True     168   217\n",
      "\n",
      "\n",
      "CLASS 9\n",
      "       False  True\n",
      "False   3514    80\n",
      "True      43   363\n"
     ]
    }
   ],
   "source": [
    "from sklearn.metrics import multilabel_confusion_matrix\n",
    "\n",
    "mcm = multilabel_confusion_matrix(y_test, y_pred)\n",
    "\n",
    "for idx_class in range(10):\n",
    "    confusion_matrix = mcm[idx_class, ...]\n",
    "    \n",
    "    print(f'\\n\\nCLASS {idx_class}')\n",
    "    # true label on row, prediction on column\n",
    "    print(pd.DataFrame(confusion_matrix, columns=['False', 'True'], index=['False', 'True']))"
   ]
  },
  {
   "cell_type": "markdown",
   "metadata": {},
   "source": [
    "La classe 5 presenta troppi falsi positivi che condizionano la bontà del modello."
   ]
  },
  {
   "cell_type": "code",
   "execution_count": 25,
   "metadata": {},
   "outputs": [
    {
     "name": "stdout",
     "output_type": "stream",
     "text": [
      "              precision    recall  f1-score   support\n",
      "\n",
      "           0       0.96      0.93      0.95       398\n",
      "           1       0.94      0.95      0.94       456\n",
      "           2       0.89      0.85      0.87       386\n",
      "           3       0.91      0.80      0.85       415\n",
      "           4       0.92      0.86      0.89       390\n",
      "           5       0.55      0.92      0.69       353\n",
      "           6       0.95      0.85      0.90       393\n",
      "           7       0.93      0.92      0.93       418\n",
      "           8       0.83      0.56      0.67       385\n",
      "           9       0.82      0.89      0.86       406\n",
      "\n",
      "    accuracy                           0.86      4000\n",
      "   macro avg       0.87      0.85      0.85      4000\n",
      "weighted avg       0.88      0.86      0.86      4000\n",
      "\n"
     ]
    }
   ],
   "source": [
    "from sklearn.metrics import classification_report\n",
    "\n",
    "report = classification_report(y_test, y_pred)\n",
    "print(report)"
   ]
  },
  {
   "cell_type": "markdown",
   "metadata": {},
   "source": [
    "Questi score, confermano l'influenza negativa della classe 5 sulla bontà del modello, caratterizzata da una precision di solo il 55% e mettono in luce l'influenza negativa anche da parte della classe 8, che presenta una recall di solo il 56%.\n",
    "Infatti, i valori di f1 score per queste due classi, sono rispettivamente del 69% e del 67%, troppo bassi!"
   ]
  },
  {
   "cell_type": "markdown",
   "metadata": {},
   "source": [
    "# Passo 4"
   ]
  },
  {
   "cell_type": "markdown",
   "metadata": {},
   "source": [
    "Si conclude, alla luce dei risultati ottenuti, che la regressione logistica applicata alla flattenizzazione delle immagini, si comporta in maniera migliore rispetto ad un approccio tradizionale."
   ]
  },
  {
   "cell_type": "markdown",
   "metadata": {},
   "source": [
    "Emilio Casella matr.204898"
   ]
  }
 ],
 "metadata": {
  "kernelspec": {
   "display_name": "Python 3",
   "language": "python",
   "name": "python3"
  },
  "language_info": {
   "codemirror_mode": {
    "name": "ipython",
    "version": 3
   },
   "file_extension": ".py",
   "mimetype": "text/x-python",
   "name": "python",
   "nbconvert_exporter": "python",
   "pygments_lexer": "ipython3",
   "version": "3.7.4"
  }
 },
 "nbformat": 4,
 "nbformat_minor": 2
}
